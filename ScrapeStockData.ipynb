{
 "cells": [
  {
   "cell_type": "markdown",
   "metadata": {},
   "source": [
    "### Importing pandas for exporting data into csv file"
   ]
  },
  {
   "cell_type": "code",
   "execution_count": 6,
   "metadata": {},
   "outputs": [],
   "source": [
    "import pandas as pd"
   ]
  },
  {
   "cell_type": "markdown",
   "metadata": {},
   "source": [
    "### Importing Selenium and required tools for webscrapping, with time package for pausing execution temporarily wherever required"
   ]
  },
  {
   "cell_type": "code",
   "execution_count": 7,
   "metadata": {},
   "outputs": [],
   "source": [
    "from selenium import webdriver\n",
    "import time\n",
    "from selenium.webdriver.common.action_chains import ActionChains\n",
    "from selenium.webdriver.support.ui import WebDriverWait\n",
    "from selenium.webdriver.common.by import By\n",
    "from selenium.webdriver.support import expected_conditions as EC\n"
   ]
  },
  {
   "cell_type": "markdown",
   "metadata": {},
   "source": [
    "### Creating a new webdriver connection and opening the site `\"https://www.tickertape.in/screener\"` in chrome using it's web-driver tool"
   ]
  },
  {
   "cell_type": "code",
   "execution_count": 8,
   "metadata": {},
   "outputs": [],
   "source": [
    "driver1 = webdriver.Chrome(executable_path = \"chromedriver.exe\")\n",
    "driver1.get(\"https://www.tickertape.in/screener\")\n",
    "driver1.set_window_size(720,1280)"
   ]
  },
  {
   "cell_type": "markdown",
   "metadata": {},
   "source": [
    "### Emulating clicks to add filters to the site so that we can get various required attributes for our data"
   ]
  },
  {
   "cell_type": "code",
   "execution_count": 9,
   "metadata": {},
   "outputs": [],
   "source": [
    "#CLICKING EDIT FILTERS\n",
    "driver1.execute_script(\"arguments[0].click();\", WebDriverWait(driver1, 20).until(EC.element_to_be_clickable((By.XPATH,\"/html/body/div/div[2]/header/div/div[1]/div[1]/div[3]/div[2]/div/span\"))))\n",
    "\n",
    "#CLICKING ADD FILTERS\n",
    "driver1.execute_script(\"arguments[0].click();\", WebDriverWait(driver1, 20).until(EC.element_to_be_clickable((By.XPATH,\"/html/body/div/div[3]/div/div[2]/div[1]/div[3]/button[1]\"))))\n",
    "\n",
    "#CLICKING 5YCAGR\n",
    "driver1.execute_script(\"arguments[0].click();\", WebDriverWait(driver1, 20).until(EC.element_to_be_clickable((By.XPATH,\"/html/body/div/div[3]/div/div/div[3]/div[2]/div[18]/div/div[1]/div/span/span[2]\"))))\n",
    "\n",
    "#CLICKING TECHNICAL INDICATORS\n",
    "driver1.execute_script(\"arguments[0].click();\", WebDriverWait(driver1, 20).until(EC.element_to_be_clickable((By.XPATH,\"/html/body/div/div[3]/div/div/div[1]/div/div[11]/span\"))))\n",
    "\n",
    "#CLICKING BETA\n",
    "driver1.execute_script(\"arguments[0].click();\", WebDriverWait(driver1, 20).until(EC.element_to_be_clickable((By.XPATH,\"/html/body/div/div[3]/div/div/div[3]/div[2]/div[2]/div/div[1]/div/span/span[2]\"))))\n",
    "\n",
    "#CLICKING ALPHA\n",
    "driver1.execute_script(\"arguments[0].click();\", WebDriverWait(driver1, 20).until(EC.element_to_be_clickable((By.XPATH,\"/html/body/div/div[3]/div/div/div[3]/div[2]/div[13]/div/div[1]/div/span/span[2]\"))))\n",
    "\n",
    "#CLICKING GROWTH\n",
    "driver1.execute_script(\"arguments[0].click();\", WebDriverWait(driver1, 20).until(EC.element_to_be_clickable((By.XPATH,\"/html/body/div[2]/div[3]/div/div/div[1]/div/div[5]/span\"))))\n",
    "\n",
    "#CLICKING 5Y HISTORICAL REVENUE GROWTH\n",
    "driver1.execute_script(\"arguments[0].click();\", WebDriverWait(driver1, 20).until(EC.element_to_be_clickable((By.XPATH,\"/html/body/div[2]/div[3]/div/div/div[3]/div[2]/div[1]/div/div[1]/div/span/span[1]/i\"))))\n",
    "\n",
    "#CLICKING ADD FILTERS\n",
    "driver1.execute_script(\"arguments[0].click();\", WebDriverWait(driver1, 20).until(EC.element_to_be_clickable((By.XPATH,\"/html/body/div/div[3]/div/div/div[3]/div[3]/div/button\"))))\n",
    "\n",
    "#CLICKING APPLY FILTERS\n",
    "driver1.execute_script(\"arguments[0].click();\", WebDriverWait(driver1, 20).until(EC.element_to_be_clickable((By.XPATH,\"/html/body/div/div[3]/div/div[2]/div[1]/div[3]/button[2]\"))))\n",
    "time.sleep(2.0)"
   ]
  },
  {
   "cell_type": "markdown",
   "metadata": {},
   "source": [
    "### Alternate way to emulate clicks"
   ]
  },
  {
   "cell_type": "code",
   "execution_count": null,
   "metadata": {},
   "outputs": [],
   "source": [
    "#CLICKING EDIT FILTERS\n",
    "# #editfilter = driver1.find_element_by_xpath(\"/html/body/div/div[2]/header/div/div[1]/div[1]/div[3]/div[2]/div/span\")\n",
    "#editfilter.click()\n",
    "#time.sleep(2.0)\n",
    "\n",
    "#CLICKING ADD FILTERS\n",
    "#addfilter = driver1.find_element_by_xpath(\"/html/body/div/div[3]/div/div[2]/div[1]/div[3]/button[1]\")\n",
    "#addfilter.click()\n",
    "#time.sleep(5.0)\n",
    "\n",
    "#CLICKING 5YCAGR\n",
    "#cagr = driver1.find_element_by_xpath(\"/html/body/div/div[3]/div/div/div[3]/div[2]/div[18]/div/div[1]/div/span\")\n",
    "#cagr.click()\n",
    "#time.sleep(5.0)\n",
    "\n",
    "#CLICKING TECHNICAL INDICATORS\n",
    "#techind = driver1.find_element_by_xpath(\"/html/body/div/div[3]/div/div/div[1]/div/div[11]/span\")/html/body/div[2]/div[3]/div/div/div[3]/div[2]/div[18]/div/div[1]/div/span/span[1]/i\n",
    "#techind.click()\n",
    "#time.sleep(5.0)\n",
    "\n",
    "#CLICKING BETA\n",
    "#beta = driver1.find_element_by_xpath(\"/html/body/div/div[3]/div/div/div[3]/div[2]/div[2]/div/div[1]/div/span/span[2]\")\n",
    "#beta.click()\n",
    "#time.sleep(5.0)\n",
    "\n",
    "#CLICKING ALPHA\n",
    "#alpha = driver1.find_element_by_xpath(\"/html/body/div/div[3]/div/div/div[3]/div[2]/div[13]/div/div[1]/div/span/span[2]\")\n",
    "#alpha.click()\n",
    "#time.sleep(5.0)\n",
    "\n",
    "#CLICKING GROWTH\n",
    "#growth = driver1.find_element_by_xpath(\"/html/body/div[2]/div[3]/div/div/div[1]/div/div[5]/span\")\n",
    "#growth.click()\n",
    "#time.sleep(5.0)\n",
    "\n",
    "#CLICKING 5Y HISTORICAL REVENUE GROWTH\n",
    "#fiveyrrevgth = driver1.find_element_by_xpath(\"/html/body/div[2]/div[3]/div/div/div[3]/div[2]/div[1]/div/div[1]/div/span/span[1]/i\")\n",
    "#fiveyrrevgth.click()\n",
    "#time.sleep(5.0)\n",
    "\n",
    "#CLICKING ADD FILTERS\n",
    "#addfilterfin = driver1.find_element_by_xpath(\"/html/body/div/div[3]/div/div/div[3]/div[3]/div/button\")\n",
    "#addfilterfin.click()\n",
    "#time.sleep(5.0)\n",
    "\n",
    "#CLICKING APPLY FILTERS\n",
    "#applyfilter = driver1.find_element_by_xpath(\"/html/body/div/div[3]/div/div[2]/div[1]/div[3]/button[2]\")\n",
    "#applyfilter.click()\n",
    "#time.sleep(5.0)"
   ]
  },
  {
   "cell_type": "markdown",
   "metadata": {},
   "source": [
    "### Getting the number of stocks provided by the site"
   ]
  },
  {
   "cell_type": "code",
   "execution_count": 11,
   "metadata": {},
   "outputs": [
    {
     "data": {
      "text/plain": [
       "4556"
      ]
     },
     "execution_count": 11,
     "metadata": {},
     "output_type": "execute_result"
    }
   ],
   "source": [
    "n_stocks = driver1.find_element_by_xpath('/html/body/div[2]/div[3]/div[1]/div/div[2]/section/div[2]/section[1]/div[3]/span/span[2]').text\n",
    "n_stocks = n_stocks.split(\"(\")[1].split(\")\")[0]\n",
    "n_stocks = int(n_stocks)\n",
    "n_stocks"
   ]
  },
  {
   "cell_type": "markdown",
   "metadata": {},
   "source": [
    "### Defining the lists where we will be storing scrapped data from the site. Each attribute of a stock will be stored in a particular list to combine them at the end to get data whilst maintaining it's integrity\n",
    "### Required attributes:\n",
    "### names : Names of the company's stock\n",
    "### sector : Sub-Sector of the company's stock\n",
    "### marcap : Market Cap Price of the company's stock\n",
    "### closeprice : The close price from the day company's stock last traded\n",
    "### peratio : Close price divided by the earnings per share, excluding extraordinary items of the company's stock\n",
    "### fiveyrgth : Compounded annual growth rate of the company's stock price over previous 5 years\n",
    "### alpha : Excess return of a company's stock relative to its benchmark, calculated using 104 weekly price close points of the stock\n",
    "### beta : Measure of a company's stock price volatility relative to the market\n",
    "### fiveyrhisrevgth : The annual compounded growth rate of revenue over the last 5 years of a company's stock"
   ]
  },
  {
   "cell_type": "code",
   "execution_count": 12,
   "metadata": {},
   "outputs": [],
   "source": [
    "#For getting the names of stocks in order\n",
    "names=[]\n",
    "#For getting the sub-sector of the stocks in order\n",
    "sector=[]\n",
    "#For getting the Market Cap Price of stocks in order\n",
    "marcap=[]\n",
    "#For getting the Closing Price(the close price from the day stock last traded) of stocks in order\n",
    "closeprice=[]\n",
    "#For getting the PE-Ratio(Close price divided by the earnings per share, excluding extraordinary items) of stocks in order\n",
    "peratio = []\n",
    "#For getting the five year growth(Compounded annual growth rate of stock price over previous 5 years) of stocks in order\n",
    "fiveyrgth = []\n",
    "#For getting Alpha(Excess return of a stock relative to its benchmark, calculated using 104 weekly price close points) of stocks in order\n",
    "alpha = []\n",
    "#For getting Beta(measure of a company's stock price volatility relative to the market) of stocks in order\n",
    "beta = []\n",
    "#For getting the five year historical revenue growth(The annual compounded growth rate of revenue over the last 5 years) of stocks in order\n",
    "fiveyrhisrevgrth = []"
   ]
  },
  {
   "cell_type": "markdown",
   "metadata": {},
   "source": [
    "### Scrolling to the end of the site"
   ]
  },
  {
   "cell_type": "code",
   "execution_count": 13,
   "metadata": {},
   "outputs": [],
   "source": [
    "t = False\n",
    "q = 1\n",
    "while i != n_stocks:\n",
    "    for i in range(q,n_stocks+1):\n",
    "        if i%20 == 0:\n",
    "            try:\n",
    "                driver1.execute_script(\"arguments[0].scrollIntoView();\", WebDriverWait(driver1, 20).until(EC.visibility_of_element_located((By.XPATH,\"/html/body/div/div[3]/div[1]/div/div[2]/section/div[2]/section[2]/div[3]/span[\"+str(i)+\"]/span[2]\"))))\n",
    "                #ActionChains(driver1).move_to_element(driver1.find_element_by_xpath(\"/html/body/div/div[3]/div[1]/div/div[2]/section/div[2]/section[2]/div[3]/span[\"+str(i)+\"]/span[2]\")).perform()\n",
    "            except:\n",
    "                q = i\n",
    "            #time.sleep(1.0)\n",
    "        if i%40 == 0:\n",
    "            try:\n",
    "                driver1.execute_script(\"arguments[0].click();\", WebDriverWait(driver1, 20).until(EC.element_to_be_clickable((By.XPATH,\"/html/body/div/div[3]/div[1]/div/div[2]/section/div[2]/div/button\"))))\n",
    "            #load = driver1.find_element_by_xpath(\"/html/body/div/div[3]/div[1]/div/div[2]/section/div[2]/div/button\")\n",
    "            #load.click()\n",
    "            except:\n",
    "                q = i\n",
    "            #time.sleep(1.0)\n",
    "    \n",
    "        "
   ]
  },
  {
   "cell_type": "markdown",
   "metadata": {},
   "source": [
    "### Most Important Part of the code:\n",
    "### Here, the data will be scrapped from the site into previously defined lists with each list containing the correspondiing attribute."
   ]
  },
  {
   "cell_type": "code",
   "execution_count": 14,
   "metadata": {},
   "outputs": [],
   "source": [
    "for i in range(1,n_stocks+1):\n",
    "    names.append(driver1.find_element_by_xpath(\"/html/body/div/div[3]/div[1]/div/div[2]/section/div[2]/section[2]/div[3]/span[\"+str(i)+\"]/span[2]\").text)\n",
    "    sector.append(driver1.find_element_by_xpath(\"/html/body/div/div[3]/div[1]/div/div[2]/section/div[2]/section[2]/div[4]/span[\"+str(i)+\"]\").text)\n",
    "    marcap.append(driver1.find_element_by_xpath(\"/html/body/div/div[3]/div[1]/div/div[2]/section/div[2]/section[2]/div[5]/span[\"+str(i)+\"]\").text)\n",
    "    closeprice.append(driver1.find_element_by_xpath(\"/html/body/div/div[3]/div[1]/div/div[2]/section/div[2]/section[2]/div[6]/span[\"+str(i)+\"]\").text)\n",
    "    peratio.append(driver1.find_element_by_xpath(\"/html/body/div/div[3]/div[1]/div/div[2]/section/div[2]/section[2]/div[7]/span[\"+str(i)+\"]\").text)\n",
    "    fiveyrgth.append(driver1.find_element_by_xpath(\"/html/body/div/div[3]/div[1]/div/div[2]/section/div[2]/section[2]/div[8]/span[\"+str(i)+\"]\").text)\n",
    "    beta.append(driver1.find_element_by_xpath(\"/html/body/div/div[3]/div[1]/div/div[2]/section/div[2]/section[2]/div[9]/span[\"+str(i)+\"]\").text)\n",
    "    alpha.append(driver1.find_element_by_xpath(\"/html/body/div/div[3]/div[1]/div/div[2]/section/div[2]/section[2]/div[10]/span[\"+str(i)+\"]\").text)\n",
    "    fiveyrhisrevgrth.append(driver1.find_element_by_xpath(\"/html/body/div[2]/div[3]/div[1]/div/div[2]/section/div[2]/section[2]/div[11]/span[\"+str(i)+\"]\").text)"
   ]
  },
  {
   "cell_type": "markdown",
   "metadata": {},
   "source": [
    "### To get the complete company names"
   ]
  },
  {
   "cell_type": "code",
   "execution_count": 62,
   "metadata": {},
   "outputs": [],
   "source": [
    "#driver1.set_window_size(1400, 1280)\n",
    "#company_name = []\n",
    "#for i in range(1,n_stocks+1):\n",
    "    #company_name.append(driver1.find_element_by_xpath(\"/html/body/div[2]/div[3]/div[1]/div/div[2]/section/div[2]/section[2]/div[3]/span[\"+str(i)+\"]\").text)"
   ]
  },
  {
   "cell_type": "markdown",
   "metadata": {},
   "source": [
    "### Exporting all lists together in one dataframe and exporting that to a csv file 'stock-data.csv'"
   ]
  },
  {
   "cell_type": "code",
   "execution_count": 84,
   "metadata": {},
   "outputs": [],
   "source": [
    "stock_data = {'Stocks':names,'Sub-Sector':sector,'Market Cap':marcap,'Close Price':closeprice,'PE Ratio':peratio,'5Y CAGR':fiveyrgth,'Beta':beta,'Alpha':alpha,'5Y HISREVGTH':fiveyrhisrevgrth}\n",
    "stock_data_fin = pd.DataFrame(stock_data)\n",
    "stock_data_fin.to_csv('stock-data.csv',index=False)"
   ]
  },
  {
   "cell_type": "markdown",
   "metadata": {},
   "source": [
    "### Closing the web-driver connection"
   ]
  },
  {
   "cell_type": "code",
   "execution_count": 72,
   "metadata": {},
   "outputs": [],
   "source": [
    "driver1.close()"
   ]
  }
 ],
 "metadata": {
  "interpreter": {
   "hash": "c80d797ad0c0f99ceecb07d53ac314bc1d62fa8729ade7f8a491ed15ddf8184a"
  },
  "kernelspec": {
   "display_name": "Python 3.7.3 64-bit",
   "name": "python3"
  },
  "language_info": {
   "codemirror_mode": {
    "name": "ipython",
    "version": 3
   },
   "file_extension": ".py",
   "mimetype": "text/x-python",
   "name": "python",
   "nbconvert_exporter": "python",
   "pygments_lexer": "ipython3",
   "version": "3.7.3"
  },
  "orig_nbformat": 4
 },
 "nbformat": 4,
 "nbformat_minor": 2
}
