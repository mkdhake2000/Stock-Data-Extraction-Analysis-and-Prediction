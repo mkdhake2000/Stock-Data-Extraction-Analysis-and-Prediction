{
 "cells": [
  {
   "cell_type": "markdown",
   "metadata": {},
   "source": [
    "## Importing Stock data"
   ]
  },
  {
   "cell_type": "code",
   "execution_count": 17,
   "metadata": {},
   "outputs": [
    {
     "data": {
      "text/html": [
       "<div>\n",
       "<style scoped>\n",
       "    .dataframe tbody tr th:only-of-type {\n",
       "        vertical-align: middle;\n",
       "    }\n",
       "\n",
       "    .dataframe tbody tr th {\n",
       "        vertical-align: top;\n",
       "    }\n",
       "\n",
       "    .dataframe thead th {\n",
       "        text-align: right;\n",
       "    }\n",
       "</style>\n",
       "<table border=\"1\" class=\"dataframe\">\n",
       "  <thead>\n",
       "    <tr style=\"text-align: right;\">\n",
       "      <th></th>\n",
       "      <th>Stocks</th>\n",
       "      <th>Sub-Sector</th>\n",
       "      <th>Market Cap</th>\n",
       "      <th>Close Price</th>\n",
       "      <th>PE Ratio</th>\n",
       "      <th>5Y CAGR</th>\n",
       "      <th>Beta</th>\n",
       "      <th>Alpha</th>\n",
       "      <th>5Y HISREVGTH</th>\n",
       "    </tr>\n",
       "  </thead>\n",
       "  <tbody>\n",
       "    <tr>\n",
       "      <th>0</th>\n",
       "      <td>RELIANCE</td>\n",
       "      <td>Oil &amp; Gas - Refining &amp; Marketing</td>\n",
       "      <td>1647964.09</td>\n",
       "      <td>2473.30</td>\n",
       "      <td>33.54</td>\n",
       "      <td>38.02</td>\n",
       "      <td>1.14</td>\n",
       "      <td>14.90</td>\n",
       "      <td>12.03</td>\n",
       "    </tr>\n",
       "    <tr>\n",
       "      <th>1</th>\n",
       "      <td>TCS</td>\n",
       "      <td>IT Services &amp; Consulting</td>\n",
       "      <td>1285679.29</td>\n",
       "      <td>3475.70</td>\n",
       "      <td>39.64</td>\n",
       "      <td>26.75</td>\n",
       "      <td>0.63</td>\n",
       "      <td>13.71</td>\n",
       "      <td>8.41</td>\n",
       "    </tr>\n",
       "    <tr>\n",
       "      <th>2</th>\n",
       "      <td>HDFCBANK</td>\n",
       "      <td>Private Banks</td>\n",
       "      <td>852892.49</td>\n",
       "      <td>1539.40</td>\n",
       "      <td>26.79</td>\n",
       "      <td>20.51</td>\n",
       "      <td>1.10</td>\n",
       "      <td>-4.95</td>\n",
       "      <td>15.95</td>\n",
       "    </tr>\n",
       "    <tr>\n",
       "      <th>3</th>\n",
       "      <td>INFY</td>\n",
       "      <td>IT Services &amp; Consulting</td>\n",
       "      <td>745692.88</td>\n",
       "      <td>1779.40</td>\n",
       "      <td>38.54</td>\n",
       "      <td>31.07</td>\n",
       "      <td>0.61</td>\n",
       "      <td>25.13</td>\n",
       "      <td>9.39</td>\n",
       "    </tr>\n",
       "    <tr>\n",
       "      <th>4</th>\n",
       "      <td>HINDUNILVR</td>\n",
       "      <td>FMCG - Household Products</td>\n",
       "      <td>563760.93</td>\n",
       "      <td>2399.40</td>\n",
       "      <td>70.51</td>\n",
       "      <td>24.48</td>\n",
       "      <td>0.24</td>\n",
       "      <td>6.54</td>\n",
       "      <td>7.77</td>\n",
       "    </tr>\n",
       "    <tr>\n",
       "      <th>...</th>\n",
       "      <td>...</td>\n",
       "      <td>...</td>\n",
       "      <td>...</td>\n",
       "      <td>...</td>\n",
       "      <td>...</td>\n",
       "      <td>...</td>\n",
       "      <td>...</td>\n",
       "      <td>...</td>\n",
       "      <td>...</td>\n",
       "    </tr>\n",
       "    <tr>\n",
       "      <th>4551</th>\n",
       "      <td>RPPINFRPP</td>\n",
       "      <td>-</td>\n",
       "      <td>-</td>\n",
       "      <td>32.70</td>\n",
       "      <td>-</td>\n",
       "      <td>-</td>\n",
       "      <td>-</td>\n",
       "      <td>-</td>\n",
       "      <td>-</td>\n",
       "    </tr>\n",
       "    <tr>\n",
       "      <th>4552</th>\n",
       "      <td>AIRTELPP</td>\n",
       "      <td>-</td>\n",
       "      <td>-</td>\n",
       "      <td>364.90</td>\n",
       "      <td>-</td>\n",
       "      <td>-</td>\n",
       "      <td>-</td>\n",
       "      <td>-</td>\n",
       "      <td>-</td>\n",
       "    </tr>\n",
       "    <tr>\n",
       "      <th>4553</th>\n",
       "      <td>SAPPHIRE</td>\n",
       "      <td>-</td>\n",
       "      <td>-</td>\n",
       "      <td>1211.55</td>\n",
       "      <td>0.00</td>\n",
       "      <td>-</td>\n",
       "      <td>-</td>\n",
       "      <td>-</td>\n",
       "      <td>45.72</td>\n",
       "    </tr>\n",
       "    <tr>\n",
       "      <th>4554</th>\n",
       "      <td>PAYTM</td>\n",
       "      <td>-</td>\n",
       "      <td>-</td>\n",
       "      <td>1560.80</td>\n",
       "      <td>0.00</td>\n",
       "      <td>-</td>\n",
       "      <td>-</td>\n",
       "      <td>-</td>\n",
       "      <td>27.54</td>\n",
       "    </tr>\n",
       "    <tr>\n",
       "      <th>4555</th>\n",
       "      <td>LATENTVIEW</td>\n",
       "      <td>-</td>\n",
       "      <td>-</td>\n",
       "      <td>-</td>\n",
       "      <td>-</td>\n",
       "      <td>-</td>\n",
       "      <td>-</td>\n",
       "      <td>-</td>\n",
       "      <td>-</td>\n",
       "    </tr>\n",
       "  </tbody>\n",
       "</table>\n",
       "<p>4556 rows × 9 columns</p>\n",
       "</div>"
      ],
      "text/plain": [
       "          Stocks                        Sub-Sector  Market Cap Close Price  \\\n",
       "0       RELIANCE  Oil & Gas - Refining & Marketing  1647964.09     2473.30   \n",
       "1            TCS          IT Services & Consulting  1285679.29     3475.70   \n",
       "2       HDFCBANK                     Private Banks   852892.49     1539.40   \n",
       "3           INFY          IT Services & Consulting   745692.88     1779.40   \n",
       "4     HINDUNILVR         FMCG - Household Products   563760.93     2399.40   \n",
       "...          ...                               ...         ...         ...   \n",
       "4551   RPPINFRPP                                 -           -       32.70   \n",
       "4552    AIRTELPP                                 -           -      364.90   \n",
       "4553    SAPPHIRE                                 -           -     1211.55   \n",
       "4554       PAYTM                                 -           -     1560.80   \n",
       "4555  LATENTVIEW                                 -           -           -   \n",
       "\n",
       "     PE Ratio 5Y CAGR  Beta  Alpha 5Y HISREVGTH  \n",
       "0       33.54   38.02  1.14  14.90        12.03  \n",
       "1       39.64   26.75  0.63  13.71         8.41  \n",
       "2       26.79   20.51  1.10  -4.95        15.95  \n",
       "3       38.54   31.07  0.61  25.13         9.39  \n",
       "4       70.51   24.48  0.24   6.54         7.77  \n",
       "...       ...     ...   ...    ...          ...  \n",
       "4551        -       -     -      -            -  \n",
       "4552        -       -     -      -            -  \n",
       "4553     0.00       -     -      -        45.72  \n",
       "4554     0.00       -     -      -        27.54  \n",
       "4555        -       -     -      -            -  \n",
       "\n",
       "[4556 rows x 9 columns]"
      ]
     },
     "execution_count": 17,
     "metadata": {},
     "output_type": "execute_result"
    }
   ],
   "source": [
    "import pandas as pd\n",
    "df_st = pd.read_csv(\"stock-data.csv\")\n",
    "df_st"
   ]
  },
  {
   "cell_type": "markdown",
   "metadata": {},
   "source": [
    "### Removing rows that do not have Market Cap Value"
   ]
  },
  {
   "cell_type": "code",
   "execution_count": 18,
   "metadata": {},
   "outputs": [],
   "source": [
    "df_st1 = df_st[df_st['Market Cap'] != '-']"
   ]
  },
  {
   "cell_type": "markdown",
   "metadata": {},
   "source": [
    "### Converting string values to numeric in Market Cap column"
   ]
  },
  {
   "cell_type": "code",
   "execution_count": 19,
   "metadata": {},
   "outputs": [
    {
     "name": "stderr",
     "output_type": "stream",
     "text": [
      "C:\\Users\\manda\\AppData\\Roaming\\Python\\Python37\\site-packages\\ipykernel_launcher.py:1: SettingWithCopyWarning: \n",
      "A value is trying to be set on a copy of a slice from a DataFrame.\n",
      "Try using .loc[row_indexer,col_indexer] = value instead\n",
      "\n",
      "See the caveats in the documentation: https://pandas.pydata.org/pandas-docs/stable/user_guide/indexing.html#returning-a-view-versus-a-copy\n",
      "  \"\"\"Entry point for launching an IPython kernel.\n"
     ]
    }
   ],
   "source": [
    "df_st1['Market Cap']=pd.to_numeric(df_st1['Market Cap'])"
   ]
  },
  {
   "cell_type": "markdown",
   "metadata": {},
   "source": [
    "### Sorting values in descending order to divide into small-capped and medium-capped"
   ]
  },
  {
   "cell_type": "code",
   "execution_count": 20,
   "metadata": {},
   "outputs": [],
   "source": [
    "df_st1 = df_st1.sort_values('Market Cap', ascending = False)"
   ]
  },
  {
   "cell_type": "markdown",
   "metadata": {},
   "source": [
    "### Taking top 200 companies as large capped companies"
   ]
  },
  {
   "cell_type": "code",
   "execution_count": 21,
   "metadata": {},
   "outputs": [],
   "source": [
    "df_lc = df_st1[:199]"
   ]
  },
  {
   "cell_type": "markdown",
   "metadata": {},
   "source": [
    "### Taking Top 200 companies with market cap less than 19000 in medium cap companies"
   ]
  },
  {
   "cell_type": "code",
   "execution_count": 22,
   "metadata": {},
   "outputs": [],
   "source": [
    "val_mc = 19000\n",
    "close_val_fn_mc = lambda list_val : abs(list_val - val_mc)\n",
    "close_val_mc = min(df_st1['Market Cap'], key=close_val_fn_mc)\n",
    "df_mc = df_st1[list(df_st1['Market Cap']).index(close_val_mc): list(df_st1['Market Cap']).index(close_val_mc) +201 ]"
   ]
  },
  {
   "cell_type": "markdown",
   "metadata": {},
   "source": [
    "### Taking Top 200 companies with market cap less than 4000 in small cap companies "
   ]
  },
  {
   "cell_type": "code",
   "execution_count": 23,
   "metadata": {},
   "outputs": [],
   "source": [
    "val_sc = 4000\n",
    "close_val_fn_sc = lambda list_val : abs(list_val - val_sc)\n",
    "close_val_sc = min(df_st1['Market Cap'], key=close_val_fn_sc)\n",
    "df_sc = df_st1[list(df_st1['Market Cap']).index(close_val_sc): list(df_st1['Market Cap']).index(close_val_sc) +201 ]"
   ]
  },
  {
   "cell_type": "markdown",
   "metadata": {},
   "source": [
    "### Exporting companies as small-cap, medium-cap and large-cap companies data in csv files"
   ]
  },
  {
   "cell_type": "code",
   "execution_count": 24,
   "metadata": {},
   "outputs": [],
   "source": [
    "df_sc.to_csv('small-cap.csv', index=False)\n",
    "df_mc.to_csv('medium-cap.csv', index=False)\n",
    "df_lc.to_csv('large-cap.csv', index=False)"
   ]
  },
  {
   "cell_type": "markdown",
   "metadata": {},
   "source": [
    "### Removing invalid entries from '5Y HISREVGTH' and converting it to numeric and considering rows with value for this colum greater than 0"
   ]
  },
  {
   "cell_type": "code",
   "execution_count": 25,
   "metadata": {},
   "outputs": [],
   "source": [
    "df_lc = df_lc[df_lc['5Y HISREVGTH'] != '-']\n",
    "df_lc['5Y HISREVGTH'] = pd.to_numeric(df_lc['5Y HISREVGTH'])\n",
    "df_lc = df_lc[df_lc['5Y HISREVGTH'] > 0]"
   ]
  },
  {
   "cell_type": "markdown",
   "metadata": {},
   "source": [
    "### Removing invalid entries from 'Beta' and converting it to numeric and considering rows with value for this colum between 0 and 1"
   ]
  },
  {
   "cell_type": "code",
   "execution_count": 26,
   "metadata": {},
   "outputs": [
    {
     "name": "stderr",
     "output_type": "stream",
     "text": [
      "C:\\Users\\manda\\AppData\\Roaming\\Python\\Python37\\site-packages\\ipykernel_launcher.py:2: SettingWithCopyWarning: \n",
      "A value is trying to be set on a copy of a slice from a DataFrame.\n",
      "Try using .loc[row_indexer,col_indexer] = value instead\n",
      "\n",
      "See the caveats in the documentation: https://pandas.pydata.org/pandas-docs/stable/user_guide/indexing.html#returning-a-view-versus-a-copy\n",
      "  \n"
     ]
    }
   ],
   "source": [
    "df_lc1 = df_lc[df_lc['Beta'] != '-']\n",
    "df_lc1['Beta']=pd.to_numeric(df_lc1['Beta'])\n",
    "df_lc1 = df_lc1[df_lc1['Beta'] >= 0]\n",
    "df_lc1 = df_lc1[df_lc1['Beta'] <= 1]"
   ]
  },
  {
   "cell_type": "markdown",
   "metadata": {},
   "source": [
    "### Removing invalid entries from 'Alpha' and converting it to numeric and sorting this new dataframe on basis of 'Alpha' in descending order and taking top 50 tuples"
   ]
  },
  {
   "cell_type": "code",
   "execution_count": 27,
   "metadata": {},
   "outputs": [],
   "source": [
    "df_lc2 = df_lc1[df_lc1['Alpha'] != '-']\n",
    "df_lc2['Alpha'] = pd.to_numeric(df_lc2['Alpha'])\n",
    "df_lc2 = df_lc2.sort_values('Alpha', ascending = False)\n",
    "df_lc2 = df_lc2[:50]"
   ]
  },
  {
   "cell_type": "markdown",
   "metadata": {},
   "source": [
    "### Removing invalid entries from '5Y CAGR' and converting it to numeric and sorting on basis of '5Y CAGR' in descending order and taking top 50 tuples"
   ]
  },
  {
   "cell_type": "code",
   "execution_count": 28,
   "metadata": {},
   "outputs": [
    {
     "name": "stderr",
     "output_type": "stream",
     "text": [
      "C:\\Users\\manda\\AppData\\Roaming\\Python\\Python37\\site-packages\\ipykernel_launcher.py:2: SettingWithCopyWarning: \n",
      "A value is trying to be set on a copy of a slice from a DataFrame.\n",
      "Try using .loc[row_indexer,col_indexer] = value instead\n",
      "\n",
      "See the caveats in the documentation: https://pandas.pydata.org/pandas-docs/stable/user_guide/indexing.html#returning-a-view-versus-a-copy\n",
      "  \n"
     ]
    }
   ],
   "source": [
    "df_lc3 = df_lc1[df_lc1['5Y CAGR'] != '-']\n",
    "df_lc3['5Y CAGR'] = pd.to_numeric(df_lc3['5Y CAGR'])\n",
    "df_lc3 = df_lc3.sort_values('5Y CAGR', ascending = False)\n",
    "df_lc3 = df_lc3[:50]"
   ]
  },
  {
   "cell_type": "markdown",
   "metadata": {},
   "source": [
    "### Taking common companies from both above formed dataframes"
   ]
  },
  {
   "cell_type": "code",
   "execution_count": 29,
   "metadata": {},
   "outputs": [],
   "source": [
    "common = list(set(df_lc2['Stocks']) & set(df_lc3['Stocks']))"
   ]
  },
  {
   "cell_type": "markdown",
   "metadata": {},
   "source": [
    "### Sorting based on sum of ranks(indices) in both dataframes and getting 6 companies with least sum"
   ]
  },
  {
   "cell_type": "code",
   "execution_count": 30,
   "metadata": {},
   "outputs": [],
   "source": [
    "sum_in = [0]*len(common)\n",
    "for i in range(len(common)):\n",
    "    sum_in[i] = list(df_lc3['Stocks']).index(common[i]) + list(df_lc2['Stocks']).index(common[i])\n",
    "\n",
    "dict = {'index' : sum_in, 'com_name': common}\n",
    "df_lc4 = pd.DataFrame(dict)\n",
    "df_lc4 = df_lc4.sort_values('index', ascending = True)\n",
    "\n",
    "ls_cmn = list(df_lc4['com_name'][:6])"
   ]
  },
  {
   "cell_type": "markdown",
   "metadata": {},
   "source": [
    "### Getting data for the retrieved 6 companies from original data"
   ]
  },
  {
   "cell_type": "code",
   "execution_count": 31,
   "metadata": {},
   "outputs": [],
   "source": [
    "df_lc5 = df_lc[df_lc['Stocks'].isin(ls_cmn)]"
   ]
  },
  {
   "cell_type": "markdown",
   "metadata": {},
   "source": [
    "### Exporting this 6 companies' data into a csv file"
   ]
  },
  {
   "cell_type": "code",
   "execution_count": 32,
   "metadata": {},
   "outputs": [],
   "source": [
    "df_lc5.to_csv('top-6-large-cap.csv',index=False)"
   ]
  }
 ],
 "metadata": {
  "interpreter": {
   "hash": "c80d797ad0c0f99ceecb07d53ac314bc1d62fa8729ade7f8a491ed15ddf8184a"
  },
  "kernelspec": {
   "display_name": "Python 3.7.3 64-bit",
   "name": "python3"
  },
  "language_info": {
   "codemirror_mode": {
    "name": "ipython",
    "version": 3
   },
   "file_extension": ".py",
   "mimetype": "text/x-python",
   "name": "python",
   "nbconvert_exporter": "python",
   "pygments_lexer": "ipython3",
   "version": "3.7.3"
  },
  "orig_nbformat": 4
 },
 "nbformat": 4,
 "nbformat_minor": 2
}
